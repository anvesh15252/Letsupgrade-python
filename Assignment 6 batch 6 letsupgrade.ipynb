{
 "cells": [
  {
   "cell_type": "markdown",
   "metadata": {},
   "source": [
    "# Question\n",
    "1. List1 = [1,2,3,4,5,7,8]  \n",
    "     List2 = [\"a\",\"b\",\"c\",\"d\",\"e\"]\n",
    "Convert to a dictionary in one line code using  comprehension (without using Zip method)?"
   ]
  },
  {
   "cell_type": "markdown",
   "metadata": {},
   "source": [
    "# 1. List1 = [1,2,3,4,5,7,8] and List2 = [\"a\",\"b\",\"c\",\"d\",\"e\"]  Convert to a dictionary in one line code using comprehension (without using Zip method)?\n"
   ]
  },
  {
   "cell_type": "code",
   "execution_count": 5,
   "metadata": {},
   "outputs": [
    {
     "name": "stdout",
     "output_type": "stream",
     "text": [
      "{1: 'a', 2: 'b', 3: 'c', 4: 'd', 5: 'e'}\n"
     ]
    }
   ],
   "source": [
    "list1 = [1,2,3,4,5,7,8]\n",
    "list2 = [\"a\",\"b\",\"c\",\"d\",\"e\"]\n",
    "\n",
    "print( {list1[i]: list2[i] for i in range(len(list2))} )"
   ]
  }
 ],
 "metadata": {
  "kernelspec": {
   "display_name": "Python 3",
   "language": "python",
   "name": "python3"
  },
  "language_info": {
   "codemirror_mode": {
    "name": "ipython",
    "version": 3
   },
   "file_extension": ".py",
   "mimetype": "text/x-python",
   "name": "python",
   "nbconvert_exporter": "python",
   "pygments_lexer": "ipython3",
   "version": "3.7.6"
  }
 },
 "nbformat": 4,
 "nbformat_minor": 4
}
