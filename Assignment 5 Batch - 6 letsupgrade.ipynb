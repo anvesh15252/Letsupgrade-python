{
 "cells": [
  {
   "cell_type": "markdown",
   "metadata": {},
   "source": [
    "# Questions\n",
    "\n",
    "1. [0,1,2,10,4,1,0,56,2,0,1,3,0,56,0,4] sort by Increasing order but all zeros must be right hand side.\n",
    "\n",
    "2. list1 = [10,20,40,60,70,80] sorted list  \n",
    "   list2 = [5,15,25,35,45,60] sorted list  \n",
    "   Merge these two sorted lists to produce one sorted list, but use only loop either while or for only one time.\n",
    "  "
   ]
  },
  {
   "cell_type": "markdown",
   "metadata": {},
   "source": [
    "# 1.[0,1,2,10,4,1,0,56,2,0,1,3,0,56,0,4]                                                                     sort by Increasing order but all zeros must be right hand side?"
   ]
  },
  {
   "cell_type": "code",
   "execution_count": 2,
   "metadata": {},
   "outputs": [
    {
     "name": "stdout",
     "output_type": "stream",
     "text": [
      "[1, 1, 1, 2, 2, 3, 4, 4, 10, 56, 56, 0, 0, 0, 0, 0]\n"
     ]
    }
   ],
   "source": [
    "list3 = [0,1,2,10,4,1,0,56,2,0,1,3,0,56,0,4]\n",
    "list3.sort()\n",
    "def move_zero(num_list):\n",
    "    a = [0 for i in range(num_list.count(0))]\n",
    "    x = [i for i in num_list if i!=0]\n",
    "    x.extend(a)\n",
    "    return(x)\n",
    "print(move_zero(list3))"
   ]
  },
  {
   "cell_type": "markdown",
   "metadata": {},
   "source": [
    "# 2.list1 = [10,20,40,60,70,80] sorted list   and  list2 = [5,15,25,35,45,60] sorted list  \n",
    "Merge these two sorted lists to produce one sorted list, but use only loop either while or for only one time?"
   ]
  },
  {
   "cell_type": "code",
   "execution_count": 4,
   "metadata": {},
   "outputs": [
    {
     "name": "stdout",
     "output_type": "stream",
     "text": [
      "Merged sorted list is :[5, 10, 15, 20, 25, 35, 40, 45, 60, 60, 70, 80]\n"
     ]
    }
   ],
   "source": [
    "list1 = [10,20,40,60,70,80]\n",
    "list2 = [5,15,25,35,45,60]\n",
    "size1 = len(list1)\n",
    "size2 = len(list2)\n",
    "res = []\n",
    "i, j = 0, 0\n",
    "while i<size1 and j<size2:\n",
    "    if list1[i] < list2[j]:\n",
    "        res.append(list1[i])\n",
    "        i = i+1\n",
    "    else:\n",
    "        res.append(list2[j])\n",
    "        j =j+1\n",
    "res = res+list1[i:] + list2[j:]\n",
    "print(\"Merged sorted list is :\"+str(res))"
   ]
  }
 ],
 "metadata": {
  "kernelspec": {
   "display_name": "Python 3",
   "language": "python",
   "name": "python3"
  },
  "language_info": {
   "codemirror_mode": {
    "name": "ipython",
    "version": 3
   },
   "file_extension": ".py",
   "mimetype": "text/x-python",
   "name": "python",
   "nbconvert_exporter": "python",
   "pygments_lexer": "ipython3",
   "version": "3.7.6"
  }
 },
 "nbformat": 4,
 "nbformat_minor": 4
}
